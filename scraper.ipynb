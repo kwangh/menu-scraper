{
 "cells": [
  {
   "cell_type": "code",
   "execution_count": 11,
   "id": "gorgeous-decade",
   "metadata": {},
   "outputs": [],
   "source": [
    "from selenium import webdriver\n",
    "from selenium.webdriver.chrome.options import Options\n",
    "from selenium.common.exceptions import NoSuchElementException\n",
    "import urllib.request"
   ]
  },
  {
   "cell_type": "code",
   "execution_count": 77,
   "id": "innocent-listening",
   "metadata": {},
   "outputs": [],
   "source": [
    "def get_driver():\n",
    "    options = Options()\n",
    "    options.add_argument('--window-size=1200x900')\n",
    "    options.add_argument('user-agent=Mozilla/5.0 (X11; Linux x86_64) AppleWebKit/537.36 (KHTML, like Gecko) Chrome/61.0.3163.100 Safari/537.36')\n",
    "    driver = webdriver.Chrome('D:\\Download\\chromedriver_win32/chromedriver.exe', options=options)\n",
    "    return driver\n",
    "\n",
    "driver = get_driver()\n",
    "# login\n",
    "driver.get('https://talk.tmaxsoft.com')\n",
    "driver.find_element_by_name('id').send_keys('kwanghun_choi')\n",
    "driver.find_element_by_name('pass').send_keys(event['pass'])\n",
    "driver.find_element_by_id('loginPage_btn').click()\n",
    "\n",
    "driver.get('https://talk.tmaxsoft.com/front/bbs/findBoardList.do?boardKind=BBS20140826008&bbsGroupCd=TM0007&curPageBbsDiv=TOTAL&menuLevel=2&srchMenuNo=TM0007&toggleMenuNo=TM0012&')\n",
    "page_data = \"\"\n",
    "try:\n",
    "    is_new = driver.find_element_by_css_selector(\"img[src='/images/new_icon.png']\")\n",
    "    is_new.click()\n",
    "    src=driver.find_element_by_xpath(\"//*[contains(@src,'https://talk.tmaxsoft.com/upload/editor/x/')]\").get_attribute('src')\n",
    "    urllib.request.urlretrieve(src, \"./out.png\")\n",
    "except NoSuchElementException:\n",
    "    page_data = \"Not found!\""
   ]
  },
  {
   "cell_type": "code",
   "execution_count": 78,
   "id": "separate-rating",
   "metadata": {},
   "outputs": [
    {
     "name": "stdout",
     "output_type": "stream",
     "text": [
      "Not found!\n"
     ]
    }
   ],
   "source": [
    "driver.close()\n",
    "print(page_data)"
   ]
  }
 ],
 "metadata": {
  "kernelspec": {
   "display_name": "Python 3",
   "language": "python",
   "name": "python3"
  },
  "language_info": {
   "codemirror_mode": {
    "name": "ipython",
    "version": 3
   },
   "file_extension": ".py",
   "mimetype": "text/x-python",
   "name": "python",
   "nbconvert_exporter": "python",
   "pygments_lexer": "ipython3",
   "version": "3.8.7"
  }
 },
 "nbformat": 4,
 "nbformat_minor": 5
}
