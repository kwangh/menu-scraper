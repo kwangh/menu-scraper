{
 "cells": [
  {
   "cell_type": "code",
   "execution_count": 31,
   "metadata": {},
   "outputs": [
    {
     "name": "stdout",
     "output_type": "stream",
     "text": [
      "Found!\n"
     ]
    }
   ],
   "source": [
    "from selenium import webdriver\n",
    "import urllib.request\n",
    "\n",
    "driver = webdriver.Chrome('./chromedriver')\n",
    "driver.implicitly_wait(3)\n",
    "driver.get('https://talk.tmaxsoft.com')\n",
    "driver.find_element_by_name('id').send_keys('kwanghun_choi')\n",
    "driver.find_element_by_name('pass').send_keys('-----')\n",
    "driver.find_element_by_id('loginPage_btn').click()\n",
    "\n",
    "driver.get('https://talk.tmaxsoft.com/front/bbs/findBoardList.do?boardKind=BBS20140826008&bbsGroupCd=TM0007&curPageBbsDiv=TOTAL&menuLevel=2&srchMenuNo=TM0007&toggleMenuNo=TM0012&')\n",
    "is_new = driver.find_element_by_css_selector(\"img[src='/images/new_icon.png']\")\n",
    "if is_new:\n",
    "    print(\"Found!\")\n",
    "    is_new.click()\n",
    "    src=driver.find_element_by_xpath(\"//*[contains(@src,'https://talk.tmaxsoft.com/upload/editor/x/')]\").get_attribute('src')\n",
    "    urllib.request.urlretrieve(src, \"./out.png\")\n",
    "else:\n",
    "    print(\"Not found!\")"
   ]
  }
 ],
 "metadata": {
  "kernelspec": {
   "display_name": "Python 3",
   "language": "python",
   "name": "python3"
  },
  "language_info": {
   "codemirror_mode": {
    "name": "ipython",
    "version": 3
   },
   "file_extension": ".py",
   "mimetype": "text/x-python",
   "name": "python",
   "nbconvert_exporter": "python",
   "pygments_lexer": "ipython3",
   "version": "3.9.1"
  }
 },
 "nbformat": 4,
 "nbformat_minor": 4
}
